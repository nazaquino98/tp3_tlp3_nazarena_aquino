{
 "cells": [
  {
   "cell_type": "markdown",
   "id": "498731c6",
   "metadata": {},
   "source": [
    "# Trabajo Practico n3 - Trabajando con Lists y Sets.\n",
    "## Criterios de evaluación.\n",
    "\n",
    "* Se deben utilizar nombres de variables descriptivos y claros (Utilizar la nomeclatura correspondiente para los nombres de variables).\n",
    "* Comentarios claros y concisos que expliquen el propósito de cada sección del código.\n",
    "* Utilizar mensajes de commit **descriptivos**. (Puedes utilizar la extension CONVENTIONAL COMMIT de VS-CODE). \n",
    "* Entrega en tiempo y forma.\n",
    "* Todo el código desarrollado debe ser subido a un repositorio en GitHub (el nombre del repositorio de seguir la siguiente estructura: tp3_tlp3_nombre_apellido).\n",
    "* Para resolver las actividades se debe insertar casillas de codigo entre cada actividad del cuaderno de Jupyter\n",
    "* El repositorio de GitHub debe incluir un archivo README.md con las instrucciones necesarias para la correcta ejecución del código.\n",
    "\n",
    "### ¡Importante!\n",
    "**El incumplimiento de los criterios de evaluación restará puntos en la nota final del práctico!**"
   ]
  },
  {
   "cell_type": "markdown",
   "id": "b361a7b6",
   "metadata": {},
   "source": [
    "### Actividad 1: \n",
    "Suma de todos los elementos de una lista, utilizando bucles repetitivos (for, while)."
   ]
  },
  {
   "cell_type": "code",
   "execution_count": null,
   "id": "26009294",
   "metadata": {},
   "outputs": [
    {
     "name": "stdout",
     "output_type": "stream",
     "text": [
      "La suma es: 204\n"
     ]
    }
   ],
   "source": [
    "\n",
    "# todo:\n",
    "\n",
    "numbers = [14, 23, 34, 48, 85]\n",
    "suma = 0        # variable para acumular la suma\n",
    "\n",
    "for num in numbers:   # se recorre cada numero de la lista\n",
    "    suma += num       # se suma el numero actual a la variable suma\n",
    "\n",
    "print(\"La suma es:\", suma)    #se muestra el resultado\n",
    "\n",
    "suma()"
   ]
  },
  {
   "cell_type": "markdown",
   "id": "0c239195",
   "metadata": {},
   "source": [
    "### Actividad 2: \n",
    "Encontrar el número más grande en una lista, utilizando bucles repetitivos (for, while)."
   ]
  },
  {
   "cell_type": "code",
   "execution_count": null,
   "id": "3611d25a",
   "metadata": {},
   "outputs": [
    {
     "name": "stdout",
     "output_type": "stream",
     "text": [
      "Lista de numeros:  [26, 23, 51, 7, 18]\n",
      "El numero mas grande es:  51\n"
     ]
    }
   ],
   "source": [
    "\n",
    "# todo:\n",
    "\n",
    "from random import randint\n",
    "random_numbers =[randint(1, 100) for i in range(5)]\n",
    "\n",
    "#se muestra la lista\n",
    "print(\"Lista de numeros: \", random_numbers)\n",
    "\n",
    "\n",
    "def num_max(lista):\n",
    "    maximo = lista[0]  # se toma el primer elemento como el mayor inicialmente\n",
    "    for num in lista:\n",
    "        if num > maximo:\n",
    "            maximo = num  # si se encuentra uno mas grande, se actualiza\n",
    "    return maximo\n",
    "\n",
    "# llamo a la funcion y muestro el resultado\n",
    "print(\"El numero mas grande es: \", num_max(random_numbers))\n"
   ]
  },
  {
   "cell_type": "markdown",
   "id": "70a24b97",
   "metadata": {},
   "source": [
    "### Actividad 3:\n",
    "Contar cuántas veces aparece un número específico. Utiliza estructuras repetitivas para la resolucion de este ejercicio. "
   ]
  },
  {
   "cell_type": "code",
   "execution_count": 11,
   "id": "a9c8ebc7",
   "metadata": {},
   "outputs": [
    {
     "name": "stdout",
     "output_type": "stream",
     "text": [
      "Lista generada: [26, 120, 98, 176, 44, 105, 187, 10, 111, 115, 40, 151, 194, 98, 38, 187, 93, 39, 161, 119]\n",
      "El numero 98 se repite 2 veces\n",
      "El numero 187 se repite 2 veces\n"
     ]
    }
   ],
   "source": [
    "\n",
    "# todo:\n",
    "from random import randint\n",
    "\n",
    "lista = [randint(1, 200) for i in range(20)]\n",
    "print(\"Lista generada:\", lista)\n",
    "\n",
    "# Lista para guardar los numeros\n",
    "numeros = []\n",
    "\n",
    "# Variable para saber si hay repetidos\n",
    "numeros_repetidos = False\n",
    "\n",
    "# Recorremos la lista\n",
    "for numero in lista:  # Recorre cada numero de la lista\n",
    "    if numero not in numeros:   #verifica el numero\n",
    "        cantidad = lista.count(numero)  # Cuenta cuantas veces aparece ese numero en la lista\n",
    "        if cantidad > 1:    \n",
    "            print(f\"El numero {numero} se repite {cantidad} veces\")   # Si aparece mas de una vez lo muestra\n",
    "            numeros_repetidos = True  # Marca si hay numeros repetidos\n",
    "        numeros.append(numero)   #agrega el numero a la lista\n",
    "\n",
    "if not numeros_repetidos:\n",
    "    print(\"Ningun numero se repite en la lista\")\n",
    "\n",
    "\n"
   ]
  },
  {
   "cell_type": "markdown",
   "id": "b8dac397",
   "metadata": {},
   "source": [
    "### Actividad 4: \n",
    "Invertir una lista sin usar reverse() ni [::-1]"
   ]
  },
  {
   "cell_type": "code",
   "execution_count": null,
   "id": "d04fd492",
   "metadata": {},
   "outputs": [
    {
     "name": "stdout",
     "output_type": "stream",
     "text": [
      "Lista original: [45, 38, 6, 5, 1, 24, 47, 50]\n",
      "Lista invertida: [50, 47, 24, 1, 5, 6, 38, 45]\n"
     ]
    }
   ],
   "source": [
    "\n",
    "# todo:\n",
    "from random import randint\n",
    "\n",
    "lists_two = [randint(1, 50) for i in range(8)]\n",
    "print(\"Lista original:\", lists_two)\n",
    "\n",
    "lista_invertida = []\n",
    "\n",
    "# Recorremos la lista original desde el final al principio\n",
    "for i in range(len(lists_two) - 1, -1, -1):\n",
    "    lista_invertida.append(lists_two[i])\n",
    "\n",
    "print(\"Lista invertida:\", lista_invertida)\n"
   ]
  },
  {
   "cell_type": "markdown",
   "id": "8889d0f2",
   "metadata": {},
   "source": [
    "### Actividad 5:\n",
    "Sumar los elementos de dos listas posición por posición, utilizando solo bucles repetititivos (for,while)."
   ]
  },
  {
   "cell_type": "code",
   "execution_count": 13,
   "id": "bc0ec844",
   "metadata": {},
   "outputs": [
    {
     "name": "stdout",
     "output_type": "stream",
     "text": [
      "Suma de listas posicion por posicion: [3, 7, 11, 16, 18]\n"
     ]
    }
   ],
   "source": [
    "\n",
    "# todo:\n",
    "\n",
    "lists_one = [2, 4, 6, 7, 8]\n",
    "lists_two = [1, 3, 5, 9, 10]\n",
    "\n",
    "resultado = []\n",
    "\n",
    "for i in range(len(lists_one)): # Recorremos ambas listas por indice\n",
    "    suma = lists_one[i] + lists_two[i]    #Suma los elementos que estan en la misma posicion\n",
    "    resultado.append(suma)   #se agrega cada suma a la lista\n",
    "\n",
    "print(\"Suma de listas posicion por posicion:\", resultado)\n"
   ]
  },
  {
   "cell_type": "markdown",
   "id": "8ce33e6b",
   "metadata": {},
   "source": [
    "### Actividad 6:\n",
    "\n",
    "Escribir un programa que almacene el abecedario en una lista, elimine de la lista las letras que ocupen posiciones múltiplos de 3, y muestre por pantalla la lista resultante."
   ]
  },
  {
   "cell_type": "code",
   "execution_count": null,
   "id": "b07326e2",
   "metadata": {},
   "outputs": [
    {
     "name": "stdout",
     "output_type": "stream",
     "text": [
      "Abecedario original: ['a', 'b', 'c', 'd', 'e', 'f', 'g', 'h', 'i', 'j', 'k', 'l', 'm', 'n', 'o', 'p', 'q', 'r', 's', 't', 'u', 'v', 'w', 'x', 'y', 'z']\n",
      "Abecedario sin posiciones multiplos de 3: ['b', 'c', 'e', 'f', 'h', 'i', 'k', 'l', 'n', 'o', 'q', 'r', 't', 'u', 'w', 'x', 'z']\n"
     ]
    }
   ],
   "source": [
    "\n",
    "# todo:\n",
    "# se crea una lista con el abecedario\n",
    "abecedario = [chr(i) for i in range(97, 123)]  # letras de la 'a' a la 'z'\n",
    "print(\"Abecedario original:\", abecedario)\n",
    "\n",
    "# se crea una nueva lista para excluir posiciones multiplos de 3\n",
    "resultado = []\n",
    "\n",
    "for i in range(len(abecedario)):\n",
    "    if i % 3 != 0:  # si el indice no es multiplo de 3, lo agregamos\n",
    "        resultado.append(abecedario[i])\n",
    "\n",
    "print(\"Abecedario sin posiciones multiplos de 3:\", resultado)\n"
   ]
  },
  {
   "cell_type": "markdown",
   "id": "5bfeb4b5",
   "metadata": {},
   "source": [
    "### Actividad 7:\n",
    "\n",
    "Escribir un programa que pida al usuario una palabra y muestre por pantalla si es un palíndromo (una palabra que se escribe de la misma forma al derecho y al reves)."
   ]
  },
  {
   "cell_type": "code",
   "execution_count": 18,
   "id": "2365afcc",
   "metadata": {},
   "outputs": [
    {
     "name": "stdout",
     "output_type": "stream",
     "text": [
      "Es un palindromo\n"
     ]
    }
   ],
   "source": [
    "\n",
    "# todo:\n",
    "# se pide una palabra al usuario\n",
    "palabra = input(\"Ingresa una palabra: \")\n",
    "\n",
    "# se convierte a minusculas para que no haya diferencias por mayusculas\n",
    "palabra = palabra.lower()\n",
    "\n",
    "# se compara la palabra con su version invertida\n",
    "if palabra == palabra[::-1]:\n",
    "    print(\"Es un palindromo\")\n",
    "else:\n",
    "    print(\"No es un palindromo\")\n"
   ]
  },
  {
   "cell_type": "markdown",
   "id": "ed8b51be",
   "metadata": {},
   "source": [
    "### Actividad 8:\n",
    "\n",
    "Teniendo en cuenta el conjunto 1 y el conjunto 2, sin usar el operador de intersección &, calcular la intersección de dichos conjuntos."
   ]
  },
  {
   "cell_type": "code",
   "execution_count": null,
   "id": "21a434b9",
   "metadata": {},
   "outputs": [],
   "source": [
    "conjunto1 = {1, 2, 3, 4}\n",
    "conjunto2 = {3, 4, 5, 6}\n",
    "# todo:"
   ]
  },
  {
   "cell_type": "markdown",
   "id": "31b460dc",
   "metadata": {},
   "source": [
    "### Actividad 9:\n",
    "Eliminar duplicados de una lista usando un set."
   ]
  },
  {
   "cell_type": "code",
   "execution_count": null,
   "id": "0ef62008",
   "metadata": {},
   "outputs": [],
   "source": [
    "\n",
    "# todo:\n",
    "lista = [1, 2, 2, 3, 4, 4, 5]\n"
   ]
  },
  {
   "cell_type": "markdown",
   "id": "075f1f2c",
   "metadata": {},
   "source": [
    "### Actividad 10:\n",
    "\n",
    "Escribir un programa que cree 2 matrices y realice su multiplicacion."
   ]
  },
  {
   "cell_type": "code",
   "execution_count": null,
   "id": "4c1fd0e1",
   "metadata": {},
   "outputs": [],
   "source": [
    "\n",
    "# todo:"
   ]
  }
 ],
 "metadata": {
  "kernelspec": {
   "display_name": "Python 3",
   "language": "python",
   "name": "python3"
  },
  "language_info": {
   "codemirror_mode": {
    "name": "ipython",
    "version": 3
   },
   "file_extension": ".py",
   "mimetype": "text/x-python",
   "name": "python",
   "nbconvert_exporter": "python",
   "pygments_lexer": "ipython3",
   "version": "3.12.9"
  }
 },
 "nbformat": 4,
 "nbformat_minor": 5
}
